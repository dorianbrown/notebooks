{
 "cells": [
  {
   "cell_type": "markdown",
   "metadata": {},
   "source": [
    "# Connecting docker containers\n",
    "\n",
    "[ Use case ]\n",
    "\n",
    "[ Some intro, and link to docker basics ]\n",
    "\n",
    "## Explaining my docker commands for spinning up containers\n",
    "[ explain per item whats happening ]\n",
    "\n",
    "```bash\n",
    "#!/bin/bash\n",
    "\n",
    "# Starting database container\n",
    "docker run \\\n",
    "    --name mariadb \\\n",
    "    -e MYSQL_ROOT_PASSWORD=password \\\n",
    "    -e MYSQL_DATABASE=test_db \\  # this creates an empty db\n",
    "    -v ~/workspace/mariadb_data:/var/lib/mysql \\  # persisting data\n",
    "    --rm \\  # deletes container when stopped\n",
    "    -d mariadb  # runs without prompt (detached mode)\n",
    "\n",
    "# Starting second container for testing connectivity\n",
    "docker run \\\n",
    "    --name jupyter \\\n",
    "    --link mariadb \\  # add db container to this ones network\n",
    "    -v ~/workspace/notebooks:/home/jovyan/notebooks \\\n",
    "    -it \\  # runs with interactive console\n",
    "    --rm \\  # deletes container when stopped\n",
    "    -p 8888:8888 \\  # exposes port 8888 to host system\n",
    "    jupyter/base-notebook\n",
    "```\n",
    "\n",
    "## Show sqlAlchemy working"
   ]
  }
 ],
 "metadata": {
  "kernelspec": {
   "display_name": "Python 3",
   "language": "python",
   "name": "python3"
  },
  "language_info": {
   "codemirror_mode": {
    "name": "ipython",
    "version": 3
   },
   "file_extension": ".py",
   "mimetype": "text/x-python",
   "name": "python",
   "nbconvert_exporter": "python",
   "pygments_lexer": "ipython3",
   "version": "3.6.4"
  }
 },
 "nbformat": 4,
 "nbformat_minor": 2
}
