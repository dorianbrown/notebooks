{
 "cells": [
  {
   "cell_type": "code",
   "execution_count": 82,
   "metadata": {},
   "outputs": [
    {
     "name": "stdout",
     "output_type": "stream",
     "text": [
      "(10,)\n",
      "(1, 10)\n",
      "(10, 1)\n",
      "(1, 10)\n",
      "(10, 1)\n"
     ]
    }
   ],
   "source": [
    "import numpy as np\n",
    "from scipy.sparse import csr_matrix\n",
    "\n",
    "# Arrays/matrices\n",
    "np_array = np.array(range(10))\n",
    "matrix_1_n = np.matrix(np_array)\n",
    "matrix_n_1 = np_matrix_1_n.transpose()\n",
    "sparse_matrix_n_1 = csr_matrix(np_array)\n",
    "sparse_matrix_1_n = np_scr_matrix_n_1.transpose()\n",
    "\n",
    "# Index and bool arrays/matrices\n",
    "bool_array = np.ones(len(np_array))\n",
    "bool_array[3] = bool_array[6] = bool_array[9] = 0\n",
    "bool_array = bool_array == 1\n",
    "ind_array = np.where(bool_array)\n",
    "sparse_bool_n_1 = csr_matrix(bool_array)\n",
    "sparse_bool_1_n = sparse_bool_n_1.transpose()\n",
    "\n",
    "print(np_array.shape)\n",
    "print(np_matrix_1_n.shape)\n",
    "print(np_matrix_n_1.shape)\n",
    "print(np_scr_matrix_n_1.shape)\n",
    "print(np_scr_matrix_1_n.shape)\n",
    "\n",
    "np_arrayd1 = np.array(range(10), ndmin=1)\n",
    "np_arrayd2 = np.array(range(10), ndmin=2)\n",
    "np_matrix = np.matrix(np_array)"
   ]
  },
  {
   "cell_type": "code",
   "execution_count": 61,
   "metadata": {},
   "outputs": [
    {
     "ename": "IndexError",
     "evalue": "only integers, slices (`:`), ellipsis (`...`), numpy.newaxis (`None`) and integer or boolean arrays are valid indices",
     "output_type": "error",
     "traceback": [
      "\u001b[0;31m---------------------------------------------------------------------------\u001b[0m",
      "\u001b[0;31mIndexError\u001b[0m                                Traceback (most recent call last)",
      "\u001b[0;32m<ipython-input-61-86c8e4ccb71e>\u001b[0m in \u001b[0;36m<module>\u001b[0;34m()\u001b[0m\n\u001b[1;32m      1\u001b[0m \u001b[0mnp_array\u001b[0m\u001b[0;34m[\u001b[0m\u001b[0mbool_array\u001b[0m\u001b[0;34m]\u001b[0m\u001b[0;34m\u001b[0m\u001b[0m\n\u001b[1;32m      2\u001b[0m \u001b[0mnp_array\u001b[0m\u001b[0;34m[\u001b[0m\u001b[0mind_array\u001b[0m\u001b[0;34m]\u001b[0m\u001b[0;34m\u001b[0m\u001b[0m\n\u001b[0;32m----> 3\u001b[0;31m \u001b[0mnp_array\u001b[0m\u001b[0;34m[\u001b[0m\u001b[0msparse_bool_n_1\u001b[0m\u001b[0;34m]\u001b[0m\u001b[0;34m\u001b[0m\u001b[0m\n\u001b[0m\u001b[1;32m      4\u001b[0m \u001b[0mnp_array\u001b[0m\u001b[0;34m[\u001b[0m\u001b[0msparse_bool_1_n\u001b[0m\u001b[0;34m]\u001b[0m\u001b[0;34m\u001b[0m\u001b[0m\n",
      "\u001b[0;31mIndexError\u001b[0m: only integers, slices (`:`), ellipsis (`...`), numpy.newaxis (`None`) and integer or boolean arrays are valid indices"
     ]
    }
   ],
   "source": [
    "np_array[bool_array]\n",
    "np_array[ind_array]\n",
    "np_array[sparse_bool_n_1]\n",
    "np_array[sparse_bool_1_n]"
   ]
  },
  {
   "cell_type": "code",
   "execution_count": null,
   "metadata": {},
   "outputs": [],
   "source": []
  }
 ],
 "metadata": {
  "kernelspec": {
   "display_name": "Python 3",
   "language": "python",
   "name": "python3"
  },
  "language_info": {
   "codemirror_mode": {
    "name": "ipython",
    "version": 3
   },
   "file_extension": ".py",
   "mimetype": "text/x-python",
   "name": "python",
   "nbconvert_exporter": "python",
   "pygments_lexer": "ipython3",
   "version": "3.6.4"
  }
 },
 "nbformat": 4,
 "nbformat_minor": 2
}
