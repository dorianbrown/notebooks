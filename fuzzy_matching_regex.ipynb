{
 "cells": [
  {
   "cell_type": "markdown",
   "metadata": {},
   "source": [
    "# Fuzzy matching to regex pattern"
   ]
  },
  {
   "cell_type": "code",
   "execution_count": 1,
   "metadata": {},
   "outputs": [],
   "source": [
    "import regex\n",
    "import random\n",
    "import string"
   ]
  },
  {
   "cell_type": "markdown",
   "metadata": {},
   "source": [
    "All you need to do is add a little code to your regex pattern to get fuzzy-matching working:\n",
    "- After a capture group just add `{e<2}` to specify matches to with 0 or 1 errors (eg. `(cat){e<2}` will match on `bat`)\n",
    "- There are different kinds of edits you can specify\n",
    "   - i: insertion\n",
    "   - d: deletion\n",
    "   - s: substitution\n",
    "   - e: any of the above\n",
    "- You can also specify combination of errors and even weight them, such as `{i<=2,d<=2,e<=3}`, or `{2i+2d+1s<=4}`.\n",
    "\n",
    "Let see it in action"
   ]
  },
  {
   "cell_type": "code",
   "execution_count": 2,
   "metadata": {},
   "outputs": [
    {
     "data": {
      "text/plain": [
       "<regex.Match object; span=(7, 27), match='2018033101Vte0000007'>"
      ]
     },
     "execution_count": 2,
     "metadata": {},
     "output_type": "execute_result"
    }
   ],
   "source": [
    "correct_string = \"before 2018033101Vte0000007 after\"\n",
    "regex_pattern = r\"(?b)((20[0-9]{2})(0[1-9]|1[0-2])(0[0-9]|1[0-9]|2[0-9]|3[0-1])([a-zA-Z0-9]{12})){e<4}\"\n",
    "\n",
    "regex.search(regex_pattern, correct_string, flags=1)"
   ]
  },
  {
   "cell_type": "code",
   "execution_count": 24,
   "metadata": {},
   "outputs": [
    {
     "data": {
      "text/plain": [
       "<regex.Match object; span=(0, 2), match='34'>"
      ]
     },
     "execution_count": 24,
     "metadata": {},
     "output_type": "execute_result"
    }
   ],
   "source": [
    "regex.match(r\"(\\d){e<4}\", \"34\")"
   ]
  },
  {
   "cell_type": "code",
   "execution_count": 20,
   "metadata": {},
   "outputs": [
    {
     "data": {
      "text/plain": [
       "<_sre.SRE_Match object; span=(0, 20), match='2018033101Vte0000007'>"
      ]
     },
     "execution_count": 20,
     "metadata": {},
     "output_type": "execute_result"
    }
   ],
   "source": [
    "import re\n",
    "std_pattern = r\"((20[0-9]{2})(0[1-9]|1[0-2])(0[0-9]|1[0-9]|2[0-9]|3[0-1])([a-zA-Z0-9]{12}))\"\n",
    "re.match(std_pattern, correct_string)"
   ]
  },
  {
   "cell_type": "markdown",
   "metadata": {},
   "source": [
    "## More Rigorous Test\n",
    "\n",
    "To test this out a little more, we're gonna create some random edits to our string, and see how the fuzzy matching goes"
   ]
  },
  {
   "cell_type": "code",
   "execution_count": 88,
   "metadata": {},
   "outputs": [],
   "source": [
    "def insert_space(word, loc):\n",
    "    return word[:loc] + \" \" + word[loc:]\n",
    "\n",
    "def change_char(word, loc):\n",
    "    if loc == 0:\n",
    "        return word\n",
    "    new_char = random.choice(string.digits + string.ascii_letters)\n",
    "    return word[:loc - 1] + new_char + word[loc:]\n",
    "\n",
    "def delete_char(word, loc):\n",
    "    return word[:loc - 1] + word[loc:]\n",
    "\n",
    "edit_funcs = [insert_space, change_char, delete_char]\n",
    "\n",
    "def messup_string(word, edits=2):\n",
    "    for _ in range(edits):\n",
    "        editor = random.choice(edit_funcs)\n",
    "        edit_idx = random.randint(0,len(word))\n",
    "        print(f\"Running \\\"{editor.__name__}\\\" on char {edit_idx}\")\n",
    "        word = editor(word, edit_idx)\n",
    "    return word"
   ]
  },
  {
   "cell_type": "markdown",
   "metadata": {},
   "source": [
    "## Match (3 Random Edits)"
   ]
  },
  {
   "cell_type": "code",
   "execution_count": 96,
   "metadata": {},
   "outputs": [
    {
     "name": "stdout",
     "output_type": "stream",
     "text": [
      "Running \"change_char\" on char 7\n",
      "Running \"change_char\" on char 12\n",
      "Running \"delete_char\" on char 13\n"
     ]
    },
    {
     "data": {
      "text/plain": [
       "<regex.Match object; span=(0, 19), match='201803N101Vz0000007', fuzzy_counts=(1, 0, 1)>"
      ]
     },
     "execution_count": 96,
     "metadata": {},
     "output_type": "execute_result"
    }
   ],
   "source": [
    "edited_string = messup_string(correct_string, 3)\n",
    "regex.match(regex_pattern, edited_string)"
   ]
  },
  {
   "cell_type": "markdown",
   "metadata": {},
   "source": [
    "## No Match (too many edits)"
   ]
  },
  {
   "cell_type": "code",
   "execution_count": 97,
   "metadata": {},
   "outputs": [
    {
     "name": "stdout",
     "output_type": "stream",
     "text": [
      "Running \"insert_space\" on char 16\n",
      "Running \"change_char\" on char 2\n",
      "Running \"insert_space\" on char 15\n",
      "Running \"change_char\" on char 19\n"
     ]
    }
   ],
   "source": [
    "edited_string = messup_string(correct_string, 4)\n",
    "regex.match(regex_pattern, edited_string)"
   ]
  },
  {
   "cell_type": "code",
   "execution_count": 7,
   "metadata": {},
   "outputs": [
    {
     "data": {
      "text/plain": [
       "<regex.Match object; span=(0, 7), match='foobizz', fuzzy_counts=(2, 1, 0)>"
      ]
     },
     "execution_count": 7,
     "metadata": {},
     "output_type": "execute_result"
    }
   ],
   "source": [
    "bad_string = \"foobizz\"\n",
    "\n",
    "pattern = r\"(?b)(foobar){e<4}\"\n",
    "\n",
    "regex.fullmatch(pattern, bad_string)"
   ]
  }
 ],
 "metadata": {
  "kernelspec": {
   "display_name": "Python [default]",
   "language": "python",
   "name": "python3"
  },
  "language_info": {
   "codemirror_mode": {
    "name": "ipython",
    "version": 3
   },
   "file_extension": ".py",
   "mimetype": "text/x-python",
   "name": "python",
   "nbconvert_exporter": "python",
   "pygments_lexer": "ipython3",
   "version": "3.6.5"
  }
 },
 "nbformat": 4,
 "nbformat_minor": 2
}
