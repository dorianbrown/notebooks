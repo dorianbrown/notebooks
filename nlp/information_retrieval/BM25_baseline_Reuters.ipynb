{
 "cells": [
  {
   "cell_type": "markdown",
   "metadata": {},
   "source": [
    "# BM25 Baseline Model for Information Retrieval on Reuters\n",
    "\n",
    "In many recent information retrieval papers, the most used baseline model for comparison purposes is the Okapi BM25 algorithm. Although the model is quite old, it still delivers competitive performance with Deep Learning models on many benchmark problems.\n",
    "\n",
    "The basis of this technique is the following formula:\n",
    "\n",
    "$$ \\text{score}(D,Q) = \\sum_{i=1}^n \\text{IDF}(q_i)\\frac{f(q_i,D)\\cdot(k_1+1)}{f(q_i,D) + k_1 \\cdot \\left(1 - b + b \\cdot \\frac{|D|}{\\text{avgdl}}\\right)}$$\n",
    "\n",
    "where $f(q_i,D)$ is the frequency of $q_i$ in document $D$, $|D|$ is the length of document $D$, and $avgdl$ is the average document length of the documents in our corpus. Parameters $k_1$ and $b$ are both free parameters to be chosen during model optimization.\n",
    "\n",
    "The IDF term is calculated as follows:\n",
    "\n",
    "$$ \\text{IDF}(q_i) = \\log\\frac{N - n(q_i) + 0.5}{n(q_i) + 0.5} $$\n",
    "\n",
    "## Possible drawbacks\n",
    "\n",
    "From the above formulation one can quickly see that this is a kind of tfidf model tweaked specifically for information retrieval purposes. This means that:\n",
    "- documents with similar meaning but different terms will not be connected\n",
    "- Context of words isn't taken into account\n",
    "\n",
    "These are shortcoming we would like to examine and test."
   ]
  },
  {
   "cell_type": "markdown",
   "metadata": {},
   "source": [
    "## Data Import"
   ]
  },
  {
   "cell_type": "code",
   "execution_count": 8,
   "metadata": {},
   "outputs": [
    {
     "name": "stdout",
     "output_type": "stream",
     "text": [
      "Unable to load 508 articles\n"
     ]
    }
   ],
   "source": [
    "%load_ext autoreload\n",
    "%autoreload 2\n",
    "\n",
    "import os\n",
    "import json\n",
    "\n",
    "import numpy as np\n",
    "import pandas as pd\n",
    "\n",
    "data_dir = \"/data/reuters\"\n",
    "\n",
    "json_contents = list()\n",
    "error_counter = 0\n",
    "for filename in os.listdir(data_dir):\n",
    "    with open(f\"{data_dir}/{filename}\", \"r\") as f:\n",
    "        for ln, line in enumerate(f):\n",
    "            try:\n",
    "                json_contents.append(json.loads(line.strip()))\n",
    "            except:\n",
    "                error_counter += 1\n",
    "\n",
    "print(f\"Unable to load {error_counter} articles\")\n",
    "\n",
    "news_df = pd.DataFrame(json_contents)\n",
    "news_df = news_df[news_df.content != '']\n",
    "news_df = news_df.drop_duplicates(subset='news_title')\n",
    "news_list = news_df.content.tolist()"
   ]
  },
  {
   "cell_type": "code",
   "execution_count": 2,
   "metadata": {},
   "outputs": [
    {
     "data": {
      "text/plain": [
       "Markets                 24369\n",
       "                         5237\n",
       "World                    3346\n",
       "Subjects                 3307\n",
       "Life                     1683\n",
       "Homepage                 1263\n",
       "Business                  892\n",
       "Technology                819\n",
       "Politics                  367\n",
       "Unknown                   328\n",
       "Finance - Markets         298\n",
       "Money                      77\n",
       "News - Housing             52\n",
       "News - Politics            26\n",
       "News - Article             23\n",
       "Blogs                      20\n",
       "Finance - FXpert           11\n",
       "News - Subjects             9\n",
       "Finance - Industries        4\n",
       "Olympics                    3\n",
       "Olympic                     3\n",
       "News - Articles             2\n",
       "Name: sector, dtype: int64"
      ]
     },
     "execution_count": 2,
     "metadata": {},
     "output_type": "execute_result"
    }
   ],
   "source": [
    "news_df[\"sector\"].value_counts()"
   ]
  },
  {
   "cell_type": "code",
   "execution_count": 3,
   "metadata": {},
   "outputs": [
    {
     "name": "stdout",
     "output_type": "stream",
     "text": [
      "July 5 (Reuters) - Rongan Property Co Ltd : * Says it appoints Wang Congwei as general manager Source text in Chinese: goo.gl/6Pkm6K Further company coverage: (Beijing Headline News) \n",
      "---\n",
      "July 5(Reuters) - Everbright Securities Co Ltd : * Says it set 2017 1st tranche public corporate bonds coupon rate at 4.58 percent for 3-year bonds and 4.70 percent for 5-year bonds Source text in Chinese: goo.gl/6oAH9i Further company coverage: (Beijing Headline News) \n",
      "---\n",
      "July 5 (Reuters) - Honz Pharmaceutical Co Ltd : * Says it received Singapore patent(No. PCT/CN2013/072402), for component and method for treating viral disease Source text in Chinese: goo.gl/V9mGV3 Further company coverage: (Beijing Headline News) \n",
      "---\n",
      "July 5(Reuters) - Shenyang Xingqi Pharmaceutical Co Ltd : * Sees H1 FY 2017 net profit to decrease by 6.38 percent to 12.62 percent, or to be 28 million yuan to 30 million yuan * Says H1 FY 2016 net profit was 32.0 million yuan * The reasons for the forecast are expanded market and improved production capacity as well as decreased financial expense Source text in Chinese: goo.gl/d1N82H Further company coverage: (Beijing Headline News) \n",
      "---\n",
      "July 4 (Reuters) - Baidu Inc * Baidu forms alliance to accelerate adoption of autonomous driving * More than 50 partners have joined Apollo open autonomous driving project Source text for Eikon: Further company coverage: \n",
      "---\n",
      "July 5(Reuters) - LOTVacuum Co Ltd : * Says it signed 3.65 billion won contract to provide dry vacuum pump Source text in Korean: goo.gl/6kajC6 Further company coverage: (Beijing Headline News) \n",
      "---\n",
      "July 4 (Reuters) - Hainan Pearl River Holding Co Ltd : * Says it plans to sell entire 98 percent stake in a Hainan-based property and hotel management firm, for at least 14 million yuan Source text in Chinese: goo.gl/E7vgyk Further company coverage: (Beijing Headline News) \n",
      "---\n",
      "July 5 (Reuters) - Wipro Ltd: * Says Wipro and Ramot at Tel Aviv University partner for joint research in emerging technologies * Says partneraship envisages creation of joint research capabilty at TAU Source text for Eikon: Further company coverage: \n",
      "---\n",
      "To access the newsletter, click on the link:    here           If you would like to receive this newsletter via email, please register at: here               FACTORS TO WATCH     10:00 am: Mahindra Group Chairman Anand Mahindra at an event in Mumbai.     12:00 pm: Mercedes launch event in Mumbai.     12:00 pm: Power Minister Piyush Goyal to speak at an event in New Delhi.     3:00 pm: Capital First annual shareholders meeting in Mumbai.     5:00 pm: Finance Minister Arun Jaitley, SBI Chairman Arundhati Bhattacharya at SBI Banking Conclave in Mumbai.     6:30 pm: Finance Minister Arun Jaitley at an event in Mumbai.          LIVECHAT - EM OUTLOOK     As developed markets continue to have a turbulent time with political risk, we take a look at emerging markets 20 years after the Asian Financial Crisis at 2:30 pm IST. To join the conversation, click on the link: here               INDIA TOP NEWS     • NTPC bets $10 billion on coal power despite surplus, green concerns     India's state-run power utility plans to invest $10 billion in new coal-fired power stations over the next five years despite the electricity regulator's assessment that thermal plants now under construction will be able to meet demand until 2027.     • Thyssenkrupp optimistic over Tata's UK pension deal but merger risks remain     Germany's Thyssenkrupp is optimistic about progress made by Tata Steel to restructure its UK pensions liabilities, investors and analysts say, but there are still issues to overcome before the two can merge their European steel assets.     • Snapdeal rejects $700-$800 million Flipkart bid -report     The board of Indian online marketplace Snapdeal has rejected a bid worth $700-$800 million from Flipkart after due diligence by its bigger rival, Mint newspaper reported on Tuesday.     • Indian Oil plans to buy North American sour crude for the first time     India's top refiner has issued its first tender to buy high-sulphur, or sour, crude from North America as it seeks to diversify imports, three trading sources said on Tuesday.     • Indian refiners tap spot crude market to feed increased capacity     Indian companies have stepped up purchases of high-sulphur crude oil from the Middle East and Russia in the spot market to feed demand from expanded refining capacity, trade sources said.     • Credit Suisse to transfer 58 IT jobs to outsourcing firm     Credit Suisse has told 58 of its IT workers they will be transferred to Indian computer services company HCL Technologies as Switzerland's second biggest bank presses ahead with its cost cutting drive.               GLOBAL TOP NEWS     • North Korea says its ICBM can carry nuclear warhead; U.S. calls for global action     North Korea said its newly developed intercontinental ballistic missile can carry a large nuclear warhead, triggering a call by Washington for global action to hold it accountable for pursuing nuclear weapons.     • China's services sector loses steam in June - Caixin PMI     China's services sector grew at a slower pace in June as new orders slumped, signalling renewed pressure on businesses after a pickup in May and pointing to a softening outlook for the economy, a private business survey showed.      • Pressure builds on Trump at home over pledge for closer Moscow ties     During his presidential campaign, Republican Donald Trump praised Russian President Vladimir Putin as a  strong leader  with whom he would like to reset tense U.S.-Russian relations.               LOCAL MARKETS OUTLOOK     (As reported by NewsRise)     • The SGX Nifty Futures were at 9,621.50, down 0.03 percent from previous close.     • The Indian rupee will likely edge lower against the dollar in early trade, amid subdued risk appetite on growing geopolitical tensions after North Korea yesterday said it had conducted a successful test of its intercontinental ballistic missile.      • Indian government bonds are expected to trade largely unchanged ahead of debt auctions over the rest of the week, even as investors await the minutes of the U.S. Federal Reserve’s latest meeting due later today. The yield on the benchmark 6.79 percent bond maturing in 2027 is likely to trade in a 6.52 percent-6.57 percent band today.               GLOBAL MARKETS     • Asian share markets got off to a subdued start as simmering tensions on the Korean peninsula supported safe-harbours including the yen and gold.      • The dollar slipped against the yen on concerns about rising tensions between the United States and North Korea while the Canadian dollar held firm after the nation's central bank chief backed an interest rate increase.     • Oil markets were firm on worries over geopolitical tensions in the Korean peninsula and the Middle East, although prices were capped as supply remains ample despite an OPEC-led drive to rein in production.     • Gold prices edged up as tensions on the Korean peninsula stoked safe-haven demand for the metal, while the release of minutes from the U.S. Federal Reserve's last meeting was also in focus.                              CLOSE        FII INVESTMENTS  EQUITIES      DEBT  PNDF spot         64.75/64.78  July 4           -$128.75 mln  -$116.33 mln  10-yr bond yield  6.95         Month-to-date    --            -317.62 mln                                 Year-to-date     $8.45 bln     $17.68 bln            For additional data:     India govt bond market volumes                      Stock market reports                     Non-deliverable forwards data                   Corporate debt stories               [IN CORPD]     Local market closing/intraday levels [IN SNAPSHOT]     Monthly inflows                      [INFLOWS RTRS TABLE IN]     ($1 = 64.73 Indian rupees)   (Compiled by Benny Thomas in Bengaluru)    \n",
      "---\n",
      "July 5(Reuters) - Dalian Yi Qiao Sea Cucumber Co Ltd : * Says it will pay FY 2016 dividend to shareholders of record on July 10 * The company's shares will be traded ex-right and ex-dividend on July 11 and the dividend will be paid on July 11 Source text in Chinese: goo.gl/AHC8fi Further company coverage: (Beijing Headline News) \n",
      "---\n"
     ]
    }
   ],
   "source": [
    "content_sample = news_df[news_df[\"sector\"] == \"Markets\"][\"content\"].tolist()[0:10]\n",
    "\n",
    "for text in content_sample:\n",
    "    print(text, \"\\n---\")"
   ]
  },
  {
   "cell_type": "markdown",
   "metadata": {},
   "source": [
    "## Text Preprocessing\n",
    "\n",
    "The `BM25()` expects a list of list of strings, which I interpret as a list of documents, where documents are a list of the documents tokens as strings.\n",
    "\n",
    "This text needs to be normalized, as it's used for the tfidf-ish terms in BM25, so we need to:\n",
    "1. Expand contractions\n",
    "2. Remove non-alphanumeric characters\n",
    "3. Lowercase everything\n",
    "4. Remove punctuation\n",
    "5. Replace numbers with textual representations\n",
    "6. Remove stopwords\n",
    "7. Stem words\n",
    "8. (Optional) Lemmatize verbs"
   ]
  },
  {
   "cell_type": "code",
   "execution_count": 18,
   "metadata": {},
   "outputs": [
    {
     "data": {
      "text/plain": [
       "['hello', 'good', 'chap', 'life', 'going']"
      ]
     },
     "execution_count": 18,
     "metadata": {},
     "output_type": "execute_result"
    }
   ],
   "source": [
    "from preprocessing import preprocess_doc\n",
    "\n",
    "sample_doc = \"Hello there good chap, how's life going for you?\"\n",
    "preprocess_doc(sample_doc)"
   ]
  },
  {
   "cell_type": "code",
   "execution_count": 22,
   "metadata": {},
   "outputs": [
    {
     "name": "stderr",
     "output_type": "stream",
     "text": [
      "Pandas Apply: 100%|██████████| 42139/42139 [29:48<00:00, 23.56it/s]\n"
     ]
    },
    {
     "name": "stdout",
     "output_type": "stream",
     "text": [
      "CPU times: user 29min 55s, sys: 1min 55s, total: 31min 50s\n",
      "Wall time: 31min 55s\n"
     ]
    }
   ],
   "source": [
    "%%time\n",
    "import swifter\n",
    "\n",
    "news_df[\"content_normalized\"] = news_df[\"content\"].swifter.apply(preprocess_doc)"
   ]
  },
  {
   "cell_type": "code",
   "execution_count": 23,
   "metadata": {},
   "outputs": [],
   "source": [
    "news_df.to_pickle(f\"{data_dir}/normalized_text_df.pkl\")"
   ]
  },
  {
   "cell_type": "markdown",
   "metadata": {},
   "source": [
    "##  BM25 Model"
   ]
  },
  {
   "cell_type": "code",
   "execution_count": null,
   "metadata": {},
   "outputs": [],
   "source": [
    "news_df = pd.DataFrame.read_pickle(f\"{data_dir}/normalized_text_df.pkl\")"
   ]
  },
  {
   "cell_type": "code",
   "execution_count": 26,
   "metadata": {},
   "outputs": [
    {
     "data": {
      "text/html": [
       "<div>\n",
       "<style scoped>\n",
       "    .dataframe tbody tr th:only-of-type {\n",
       "        vertical-align: middle;\n",
       "    }\n",
       "\n",
       "    .dataframe tbody tr th {\n",
       "        vertical-align: top;\n",
       "    }\n",
       "\n",
       "    .dataframe thead th {\n",
       "        text-align: right;\n",
       "    }\n",
       "</style>\n",
       "<table border=\"1\" class=\"dataframe\">\n",
       "  <thead>\n",
       "    <tr style=\"text-align: right;\">\n",
       "      <th></th>\n",
       "      <th>content</th>\n",
       "      <th>keywords</th>\n",
       "      <th>news_time</th>\n",
       "      <th>news_title</th>\n",
       "      <th>sector</th>\n",
       "      <th>url</th>\n",
       "      <th>content_normalized</th>\n",
       "    </tr>\n",
       "  </thead>\n",
       "  <tbody>\n",
       "    <tr>\n",
       "      <th>0</th>\n",
       "      <td>July 5 (Reuters) - Rongan Property Co Ltd : * ...</td>\n",
       "      <td>Wang Congwei,BRIEF,Rongan Property appoints Wa...</td>\n",
       "      <td>2017-07-04 23:56:00</td>\n",
       "      <td>BRIEF-Rongan Property appoints Wang Congwei as...</td>\n",
       "      <td>Markets</td>\n",
       "      <td>http://www.reuters.com/article/brief-rongan-pr...</td>\n",
       "      <td>[july, five, reuters, rongan, property, co, lt...</td>\n",
       "    </tr>\n",
       "    <tr>\n",
       "      <th>1</th>\n",
       "      <td>July 4 (Reuters) - * Fitch says Bond Connect s...</td>\n",
       "      <td>China,BRIEF,Fitch says Bond Connect supports C...</td>\n",
       "      <td>2017-07-04 23:55:00</td>\n",
       "      <td>BRIEF-Fitch says Bond Connect supports China's...</td>\n",
       "      <td></td>\n",
       "      <td>http://www.reuters.com/article/brief-fitch-say...</td>\n",
       "      <td>[july, four, reuters, fitch, says, bond, conne...</td>\n",
       "    </tr>\n",
       "    <tr>\n",
       "      <th>2</th>\n",
       "      <td>July 5(Reuters) - Everbright Securities Co Ltd...</td>\n",
       "      <td>BRIEF,Everbright Securities sets coupon rate o...</td>\n",
       "      <td>2017-07-04 23:53:00</td>\n",
       "      <td>BRIEF-Everbright Securities sets coupon rate o...</td>\n",
       "      <td>Markets</td>\n",
       "      <td>http://www.reuters.com/article/brief-everbrigh...</td>\n",
       "      <td>[july, 5reuters, everbright, securities, co, l...</td>\n",
       "    </tr>\n",
       "    <tr>\n",
       "      <th>3</th>\n",
       "      <td>July 5 (Reuters) - Honz Pharmaceutical Co Ltd ...</td>\n",
       "      <td>Singapore,BRIEF,Honz Pharmaceutical receives S...</td>\n",
       "      <td>2017-07-04 23:44:00</td>\n",
       "      <td>BRIEF-Honz Pharmaceutical receives Singapore p...</td>\n",
       "      <td>Markets</td>\n",
       "      <td>http://www.reuters.com/article/brief-honz-phar...</td>\n",
       "      <td>[july, five, reuters, honz, pharmaceutical, co...</td>\n",
       "    </tr>\n",
       "    <tr>\n",
       "      <th>4</th>\n",
       "      <td>July 5(Reuters) - Shenyang Xingqi Pharmaceutic...</td>\n",
       "      <td>BRIEF,Shenyang Xingqi Pharmaceutical sees H1 F...</td>\n",
       "      <td>2017-07-04 23:40:00</td>\n",
       "      <td>BRIEF-Shenyang Xingqi Pharmaceutical sees H1 F...</td>\n",
       "      <td>Markets</td>\n",
       "      <td>http://www.reuters.com/article/brief-shenyang-...</td>\n",
       "      <td>[july, 5reuters, shenyang, xingqi, pharmaceuti...</td>\n",
       "    </tr>\n",
       "  </tbody>\n",
       "</table>\n",
       "</div>"
      ],
      "text/plain": [
       "                                             content  \\\n",
       "0  July 5 (Reuters) - Rongan Property Co Ltd : * ...   \n",
       "1  July 4 (Reuters) - * Fitch says Bond Connect s...   \n",
       "2  July 5(Reuters) - Everbright Securities Co Ltd...   \n",
       "3  July 5 (Reuters) - Honz Pharmaceutical Co Ltd ...   \n",
       "4  July 5(Reuters) - Shenyang Xingqi Pharmaceutic...   \n",
       "\n",
       "                                            keywords            news_time  \\\n",
       "0  Wang Congwei,BRIEF,Rongan Property appoints Wa...  2017-07-04 23:56:00   \n",
       "1  China,BRIEF,Fitch says Bond Connect supports C...  2017-07-04 23:55:00   \n",
       "2  BRIEF,Everbright Securities sets coupon rate o...  2017-07-04 23:53:00   \n",
       "3  Singapore,BRIEF,Honz Pharmaceutical receives S...  2017-07-04 23:44:00   \n",
       "4  BRIEF,Shenyang Xingqi Pharmaceutical sees H1 F...  2017-07-04 23:40:00   \n",
       "\n",
       "                                          news_title   sector  \\\n",
       "0  BRIEF-Rongan Property appoints Wang Congwei as...  Markets   \n",
       "1  BRIEF-Fitch says Bond Connect supports China's...            \n",
       "2  BRIEF-Everbright Securities sets coupon rate o...  Markets   \n",
       "3  BRIEF-Honz Pharmaceutical receives Singapore p...  Markets   \n",
       "4  BRIEF-Shenyang Xingqi Pharmaceutical sees H1 F...  Markets   \n",
       "\n",
       "                                                 url  \\\n",
       "0  http://www.reuters.com/article/brief-rongan-pr...   \n",
       "1  http://www.reuters.com/article/brief-fitch-say...   \n",
       "2  http://www.reuters.com/article/brief-everbrigh...   \n",
       "3  http://www.reuters.com/article/brief-honz-phar...   \n",
       "4  http://www.reuters.com/article/brief-shenyang-...   \n",
       "\n",
       "                                  content_normalized  \n",
       "0  [july, five, reuters, rongan, property, co, lt...  \n",
       "1  [july, four, reuters, fitch, says, bond, conne...  \n",
       "2  [july, 5reuters, everbright, securities, co, l...  \n",
       "3  [july, five, reuters, honz, pharmaceutical, co...  \n",
       "4  [july, 5reuters, shenyang, xingqi, pharmaceuti...  "
      ]
     },
     "execution_count": 26,
     "metadata": {},
     "output_type": "execute_result"
    }
   ],
   "source": [
    "news_df.head()"
   ]
  },
  {
   "cell_type": "code",
   "execution_count": 29,
   "metadata": {},
   "outputs": [],
   "source": [
    "from gensim.summarization.bm25 import BM25\n",
    "\n",
    "bm25 = BM25(news_df[\"content_normalized\"].tolist())"
   ]
  },
  {
   "cell_type": "code",
   "execution_count": 30,
   "metadata": {},
   "outputs": [],
   "source": [
    "average_idf = sum(map(lambda k: float(bm25.idf[k]), bm25.idf.keys())) / len(bm25.idf.keys())"
   ]
  },
  {
   "cell_type": "code",
   "execution_count": 34,
   "metadata": {},
   "outputs": [],
   "source": [
    "query_doc = \"dropping stock prices\"\n",
    "\n",
    "scores = bm25.get_scores(query_doc, average_idf)"
   ]
  },
  {
   "cell_type": "code",
   "execution_count": 40,
   "metadata": {},
   "outputs": [
    {
     "name": "stdout",
     "output_type": "stream",
     "text": [
      "BARCELONA (Reuters) - Battered by its emissions scandal, Audi launched its latest technology-packed A8 luxury saloon on Tuesday, aimed at overtaking rivals Mercedes-Benz and BMW as it struggles to overcome its biggest-ever corporate crisis. Last week Munich prosecutors arrested an Audi employee in connection with  dieselgate , the latest setback to Volkswagen's (VOWG_p.DE) luxury car arm and main profit driver, after the German government a month earlier had accused Audi of cheating on emissions tests. On Tuesday Audi shifted the focus back to its products with its top management hosting 2,000 guests in Barcelona to unveil the new A8, whose Level-3 self-driving technology enables the car to completely control driving at up to 60 kilometers (37 miles) per hour, beating the Mercedes S-Class and the BMW 7-Series. Having slipped behind its two German rivals on global sales last year, Audi has risked stalling without innovation and needed a new prestige product, said Stefan Bratzel, head of the Center of Automotive Management think-tank near Cologne.  Innovation is key in premium car-making,  Bratzel said.  The new A8 will polish the brand's image and line-up at a critical time.  Even Audi acknowledged that amid ongoing investigations, persistent pressure on its chief executive for his crisis management and analysts' criticism of Audi's ageing vehicle design, the new A8 creates an opportunity for a clean break.  It's gratifying that we are able to set a positive sign for real 'Vorsprung durch Technik', advancement through technology,  R&D chief Peter Mertens said. Mercedes and BMW have accelerated their autonomous-driving development programs with Mercedes owner Daimler joining forces with car parts maker Robert Bosch [ROBG.UL] in April and BMW collaborating with other firms including U.S. parts maker Delphi and chipmaker Intel. Audi Chief Executive Rupert Stadler presents the new Audi A8 at the Audi Summit in Barcelona, Spain July 11, 2017.Albert GeaFeaturing a more distinctive design and a foot massager for rear-seat passengers, the new A8 heralds the start of a series of redesigns and new model launches at Audi including an electric sport-utility vehicle (SUV) to take on Tesla's Model X, the all-new Q4 and Q8 SUVs and redesigned A6 and A7 model lines. A source at Audi said development of the A8, which took about five years, suffered from changes at the brand's research and development department, though assiduous work by division heads helped ensure that delays were kept in check. The A8 will reach German dealerships in the fourth quarter. Slideshow (21 Images)Audi is on its third development chief since dieselgate broke in late 2015, with Mertens, who took office in May, the brand's fifth R&D boss since 2012.  The top brass at VW group and Audi are so preoccupied with the diesel issue that the company's management is lastingly distracted,  said Christian Strenger, a supervisory board member at Deutsche Bank's retail asset management arm DWS. With the new A8's retail price up almost 8 percent on its  predecessor at 90,600 euros ($103,000), Audi will also struggle to narrow the gap with its traditional rivals, research firm IHS Markit said. A8 sales in the core markets of Europe, China and the Americas may climb 3.2 percent to 35,571 cars by 2025 from 34,468 next year, IHS said. By comparison, IHS expects deliveries of BMW's 7-Series to fall 7.6 percent to 52,238 cars by 2025 and deliveries of Mercedes' S-Class to jump 24 percent to 85,389 cars. S-Class and 7-Series prices start at 88,447 euros and 78,100 euros respectively, according to company data. Editing by Greg Mahlich\n"
     ]
    }
   ],
   "source": [
    "# TODO: Get top n results\n",
    "\n",
    "best_result = news_df[\"content\"][scores.index(max(scores))]\n",
    "print(best_result)"
   ]
  }
 ],
 "metadata": {
  "kernelspec": {
   "display_name": "Python 3",
   "language": "python",
   "name": "python3"
  },
  "language_info": {
   "codemirror_mode": {
    "name": "ipython",
    "version": 3
   },
   "file_extension": ".py",
   "mimetype": "text/x-python",
   "name": "python",
   "nbconvert_exporter": "python",
   "pygments_lexer": "ipython3",
   "version": "3.6.6"
  }
 },
 "nbformat": 4,
 "nbformat_minor": 2
}
