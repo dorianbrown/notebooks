{
 "cells": [
  {
   "cell_type": "markdown",
   "metadata": {},
   "source": [
    "# Feature Hashing: Dimension Reduction in NLP\n",
    "\n",
    "In Machine Learning, feature hashing (aka hashing trick) is a technique to encode categorical features. In general it is used as a dimension-reduction technique, and it has gained a lot of popularity within the Machine Learning community in the last few years, especially in the NLP domain.\n",
    "\n",
    "Feature hashing doesn't require too many parameters to use (usually only dimension of the reduced parameter space), and in this training we will try and explain how the technique works, and what the trade-offs are in choosing this parameter.\n",
    "\n",
    "Most of this training was based on [this blog post](https://booking.ai/dont-be-tricked-by-the-hashing-trick-192a6aae3087).\n",
    "\n",
    "## Hashing\n",
    "\n",
    "A hashing function is the basis of this trick, and a good hashing function is defined as follows:\n",
    "> A hashing function is some function $h$ from one space (in NLP, tokens) to another space (in general, integer indices) with the following properties:\n",
    "> 1. **Deterministic:** Tokens are always mapped to the same index.\n",
    "> 2. **Uniform:** A large set of tokens should be uniformly distributed over the index range.\n",
    "> 3. **Fixed Range:** The size of the output set of indices should be fixed.\n",
    "\n",
    "<center>\n",
    "![Hashing function](https://upload.wikimedia.org/wikipedia/commons/thumb/5/58/Hash_table_4_1_1_0_0_1_0_LL.svg/320px-Hash_table_4_1_1_0_0_1_0_LL.svg.png)\n",
    "</center>\n",
    "\n",
    "There are many different ways of creating a hashing function with the following properties, so we aren't stuck with a specific function. The best one usually depends on the use-case, but you can find lots of examples [here](https://www.wikiwand.com/en/Hash_function).\n",
    "\n",
    "## Feature Hashing in Document Classification\n",
    "\n",
    "For now we will focus on one application of this technique, but you should know that it is applied to many other cases, usually as a way of reducing the size of a bag-of-words representation. See the image below for an illustration.\n",
    "\n",
    "<center>\n",
    "![Hashing function](dimension_reduction.png)\n",
    "</center>\n",
    "\n",
    "For this example we will use a commonly used dataset from kaggle."
   ]
  },
  {
   "cell_type": "code",
   "execution_count": 1,
   "metadata": {},
   "outputs": [
    {
     "data": {
      "text/plain": [
       "\"Fed's Charles Plosser sees high bar for change in pace of tapering\""
      ]
     },
     "execution_count": 1,
     "metadata": {},
     "output_type": "execute_result"
    }
   ],
   "source": [
    "import pandas as pd\n",
    "import re\n",
    "%matplotlib inline\n",
    "\n",
    "news_df = pd.read_csv(\"/home/ec2-user/data/uci-news-aggregator.csv\")\n",
    "news_df = news_df[['TITLE', 'CATEGORY']]\n",
    "\n",
    "news_df['TITLE'][1]"
   ]
  },
  {
   "cell_type": "code",
   "execution_count": 56,
   "metadata": {},
   "outputs": [
    {
     "name": "stdout",
     "output_type": "stream",
     "text": [
      "  (0, 1)\t1.0\n",
      "  (0, 9)\t1.0\n",
      "  (1, 7)\t1.0\n"
     ]
    }
   ],
   "source": [
    "from sklearn.feature_extraction.text import HashingVectorizer\n",
    "from sklearn.feature_extraction.text import CountVectorizer\n",
    "\n",
    "hasher = HashingVectorizer(strip_accents='ascii',  # translates weird characters\n",
    "                           analyzer='word',\n",
    "                           stop_words='english',\n",
    "                           norm=None,  # This can be used to norm document vectors\n",
    "                           alternate_sign=False,  # Trick used with hashing to improve it\n",
    "                           n_features=10)  # Size of hashing dimension\n",
    "\n",
    "hashed_features = hasher.transform(news_df['TITLE'])\n",
    "\n",
    "print(hasher.transform([\"hello world\", \"change\"]))"
   ]
  },
  {
   "cell_type": "markdown",
   "metadata": {},
   "source": [
    "Here we see the hashing function in action. It takes each word of the input list of strings (the features of the document), and creates a vector of length $n$, where the indices of the output of the hashing function are set to 1.\n",
    "\n",
    "## Calculating the number of collisions\n",
    "\n",
    "Lets calculate the number of collisions we are getting as we reduce the size of our hashing layer. We expect to see an increase, but how much will it increase?\n",
    "\n",
    "First we'll get a list of unique tokens. We'll grab the preprocessing function from the `HashingVectorizer` (which is called `build_analyzer`), to make sure we use the same function."
   ]
  },
  {
   "cell_type": "code",
   "execution_count": 57,
   "metadata": {},
   "outputs": [
    {
     "data": {
      "text/plain": [
       "['fed',\n",
       " 'charles',\n",
       " 'plosser',\n",
       " 'sees',\n",
       " 'high',\n",
       " 'bar',\n",
       " 'change',\n",
       " 'pace',\n",
       " 'tapering']"
      ]
     },
     "execution_count": 57,
     "metadata": {},
     "output_type": "execute_result"
    }
   ],
   "source": [
    "preprocessor = hasher.build_analyzer()\n",
    "preprocessor(news_df['TITLE'][1])"
   ]
  },
  {
   "cell_type": "markdown",
   "metadata": {},
   "source": [
    "Great, it's doing what we want! It's always a good idea to check stuff like this for yourself. Now lets use this to create a list of unique tokens."
   ]
  },
  {
   "cell_type": "code",
   "execution_count": 58,
   "metadata": {},
   "outputs": [
    {
     "name": "stdout",
     "output_type": "stream",
     "text": [
      "  (0, 1)\t1.0\n",
      "  (0, 5)\t3.0\n",
      "  (0, 6)\t2.0\n",
      "  (0, 7)\t2.0\n",
      "  (0, 9)\t1.0\n"
     ]
    }
   ],
   "source": [
    "print(hasher.transform([news_df['TITLE'][1]]))"
   ]
  },
  {
   "cell_type": "code",
   "execution_count": 76,
   "metadata": {},
   "outputs": [
    {
     "data": {
      "image/png": "[encoded data removed]",
      "text/plain": [
       "<Figure size 432x288 with 1 Axes>"
      ]
     },
     "metadata": {},
     "output_type": "display_data"
    }
   ],
   "source": [
    "import matplotlib.pyplot as plt\n",
    "\n",
    "unique_tokens = list(set.union(*[set(preprocessor(d)) for d in news_df['TITLE']]))\n",
    "\n",
    "def calc_collisions(word_list, hash_dim):      \n",
    "    hasher = HashingVectorizer(strip_accents='ascii',\n",
    "                           analyzer='word',\n",
    "                           stop_words='english',\n",
    "                           norm=None,\n",
    "                           binary=True,\n",
    "                           alternate_sign=False,\n",
    "                           n_features=hash_dim)\n",
    "    hashed_features = hasher.transform(word_list)\n",
    "    summed_features = hashed_features.sum(axis=0)\n",
    "    col_count = summed_features[summed_features > 0] - 1\n",
    "    return col_count.sum()\n",
    "\n",
    "plot_data = list()\n",
    "for n in range(1001000,0, -10000):\n",
    "    col = calc_collisions(unique_tokens, hash_dim=n)\n",
    "    plot_data.append([n,100*col/len(unique_tokens)])\n",
    "    \n",
    "plt.plot([x[0] for x in plot_data], [x[1] for x in plot_data])\n",
    "plt.xlim(1100000,-1000)\n",
    "plt.xlabel(\"Hash Dimension\")\n",
    "plt.ylabel(\"% Collisions\")\n",
    "plt.show()"
   ]
  },
  {
   "cell_type": "markdown",
   "metadata": {},
   "source": [
    "As we can see, the number of collisions grows exponentially as we approach a hash dimension of 0. Often a kind of elbow rule is used to determine the hash dimension.\n",
    "\n",
    "With this increase of collisions in mind, it would be interesting to know how this impacts the predictive power of machine-learning models. Hash collisions might not be so bad? \n",
    "\n",
    "Lets try and figure it out ourselves!\n",
    "\n",
    "> *Warning, this takes a long time, so run at your own risk!*"
   ]
  },
  {
   "cell_type": "code",
   "execution_count": null,
   "metadata": {},
   "outputs": [],
   "source": [
    "from sklearn.pipeline import Pipeline\n",
    "from sklearn.linear_model import LogisticRegression\n",
    "from sklearn.preprocessing import LabelEncoder\n",
    "from sklearn.model_selection import train_test_split\n",
    "from sklearn.metrics import accuracy_score\n",
    "\n",
    "def run_classification(df, hash_dim):\n",
    "    train,test = train_test_split(df, test_size=0.3)\n",
    "    X_train = train['TITLE']\n",
    "    X_test = test['TITLE']\n",
    "    y_train = train['CATEGORY']\n",
    "    y_test = test['CATEGORY']\n",
    "\n",
    "    pipeline = Pipeline(steps=[\n",
    "        ('hasher', HashingVectorizer(strip_accents='ascii',\n",
    "                           analyzer='word',\n",
    "                           stop_words='english',\n",
    "                           norm=None,\n",
    "                           binary=True,\n",
    "                           alternate_sign=False,\n",
    "                           n_features=hash_dim)),\n",
    "        ('log_reg', LogisticRegression())\n",
    "    ])\n",
    "\n",
    "    pipeline.fit(X_train, y_train)\n",
    "    return accuracy_score(y_test, pipeline.predict(X_test))\n",
    "\n",
    "df = news_df[:]\n",
    "\n",
    "le = LabelEncoder()\n",
    "df['CATEGORY'] = le.fit_transform(df['CATEGORY'])\n",
    "\n",
    "# Seems to be an error with calculating total unique words\n",
    "\n",
    "plot_data = list()\n",
    "for n in range(100000,1000, -1000):\n",
    "    col = calc_collisions(df['TITLE'], hash_dim=n)\n",
    "    acc = run_classification(df, hash_dim=n)\n",
    "    plot_data.append([n, col, acc])"
   ]
  },
  {
   "cell_type": "markdown",
   "metadata": {},
   "source": [
    "For this calculation, we only took a sample of 10,000 documents to speed up the calculation, and we only look at the lower hash dimensions.\n",
    "\n",
    "The takeaway from this is that you can **seriously** reduce your dimensionality without losing much predictive power."
   ]
  },
  {
   "cell_type": "code",
   "execution_count": 88,
   "metadata": {},
   "outputs": [
    {
     "data": {
      "image/png": "[encoded data removed]",
      "text/plain": [
       "<Figure size 432x288 with 2 Axes>"
      ]
     },
     "metadata": {},
     "output_type": "display_data"
    }
   ],
   "source": [
    "fig, ax1 = plt.subplots()\n",
    "\n",
    "color = 'tab:red'\n",
    "ax1.set_xlabel(\"Hash Dimension\")\n",
    "ax1.set_ylabel('% Collisions', color=color)\n",
    "ax1.plot([x[0] for x in plot_data], [x[1] for x in plot_data], color=color, \n",
    "         label='Collisions')\n",
    "ax1.tick_params(axis='y', labelcolor=color)\n",
    "ax1.set_ylim(0,750)\n",
    "\n",
    "ax2 = ax1.twinx()  # instantiate a second axes that shares the same x-axis\n",
    "\n",
    "color = 'tab:blue'\n",
    "ax2.set_ylabel('Classifier Accuracy', color=color)\n",
    "ax2.plot([x[0] for x in plot_data], [x[2] for x in plot_data], color=color, \n",
    "         label='Classifier Accuracy')\n",
    "ax2.tick_params(axis='y', labelcolor=color)\n",
    "\n",
    "fig.tight_layout()  # otherwise the right y-label is slightly clipped\n",
    "plt.xlim(110000,0)\n",
    "plt.show()"
   ]
  },
  {
   "cell_type": "code",
   "execution_count": null,
   "metadata": {},
   "outputs": [],
   "source": []
  }
 ],
 "metadata": {
  "kernelspec": {
   "display_name": "Python (tensorflow)",
   "language": "python",
   "name": "myenv"
  },
  "language_info": {
   "codemirror_mode": {
    "name": "ipython",
    "version": 3
   },
   "file_extension": ".py",
   "mimetype": "text/x-python",
   "name": "python",
   "nbconvert_exporter": "python",
   "pygments_lexer": "ipython3",
   "version": "3.4.5"
  }
 },
 "nbformat": 4,
 "nbformat_minor": 2
}
